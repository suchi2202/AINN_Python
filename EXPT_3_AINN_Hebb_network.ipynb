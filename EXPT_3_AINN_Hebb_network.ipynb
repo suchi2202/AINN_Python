{
  "nbformat": 4,
  "nbformat_minor": 0,
  "metadata": {
    "colab": {
      "provenance": []
    },
    "kernelspec": {
      "name": "python3",
      "display_name": "Python 3"
    },
    "language_info": {
      "name": "python"
    }
  },
  "cells": [
    {
      "cell_type": "code",
      "source": [
        "import numpy as np\n",
        "\n",
        "A = np.array([[1, -1, -1], [1, -1, -1], [1, 1, 1]])\n",
        "B = np.array([[1, -1, 1], [1, -1, 1], [1, 1, 1]])\n",
        "\n",
        "w = np.zeros((3, 3))\n",
        "b = 0\n",
        "\n",
        "t_A = 1\n",
        "t_B = -1\n",
        "\n",
        "print(\"Initial weights and bias:\")\n",
        "print(\"Weights:\")\n",
        "print(w)\n",
        "print(\"Bias:\", b)\n",
        "\n",
        "for i in range(3):\n",
        "    for j in range(3):\n",
        "        w[i, j] += A[i, j] * t_A\n",
        "    b += t_A\n",
        "\n",
        "print(\"Weights for input A:\")\n",
        "print(w)\n",
        "\n",
        "for i in range(3):\n",
        "    for j in range(3):\n",
        "        w[i, j] += B[i, j] * t_B\n",
        "    b += t_B\n",
        "\n",
        "print(\"Weights for input B:\")\n",
        "print(w)\n",
        "\n",
        "OA = np.sum(A * w) + b\n",
        "OB = np.sum(B * w) + b\n",
        "\n",
        "print(\"Output values for A and B:\")\n",
        "print(\"Ya:\", OA)\n",
        "print(\"Yb:\", OB)\n"
      ],
      "metadata": {
        "colab": {
          "base_uri": "https://localhost:8080/"
        },
        "id": "51LJMYlJI3K3",
        "outputId": "898d0564-92cc-4102-918a-bcf33581a80a"
      },
      "execution_count": null,
      "outputs": [
        {
          "output_type": "stream",
          "name": "stdout",
          "text": [
            "Initial weights and bias:\n",
            "Weights:\n",
            "[[0. 0. 0.]\n",
            " [0. 0. 0.]\n",
            " [0. 0. 0.]]\n",
            "Bias: 0\n",
            "Weights for input A:\n",
            "[[ 1. -1. -1.]\n",
            " [ 1. -1. -1.]\n",
            " [ 1.  1.  1.]]\n",
            "Weights for input B:\n",
            "[[ 0.  0. -2.]\n",
            " [ 0.  0. -2.]\n",
            " [ 0.  0.  0.]]\n",
            "Output values for A and B:\n",
            "Ya: 4.0\n",
            "Yb: -4.0\n"
          ]
        }
      ]
    }
  ]
}